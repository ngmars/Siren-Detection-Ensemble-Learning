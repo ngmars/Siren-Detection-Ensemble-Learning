{
  "nbformat": 4,
  "nbformat_minor": 0,
  "metadata": {
    "colab": {
      "name": "CNN with img files.ipynb",
      "provenance": [],
      "collapsed_sections": [],
      "toc_visible": true,
      "include_colab_link": true
    },
    "kernelspec": {
      "name": "python3",
      "display_name": "Python 3"
    },
    "language_info": {
      "name": "python"
    },
    "accelerator": "GPU"
  },
  "cells": [
    {
      "cell_type": "markdown",
      "metadata": {
        "id": "view-in-github",
        "colab_type": "text"
      },
      "source": [
        "<a href=\"https://colab.research.google.com/github/ngmars/Siren-Detection-Ensemble-Learning/blob/main/CNN%20with%20img%20files.ipynb\" target=\"_parent\"><img src=\"https://colab.research.google.com/assets/colab-badge.svg\" alt=\"Open In Colab\"/></a>"
      ]
    },
    {
      "cell_type": "markdown",
      "metadata": {
        "id": "aD_wb6ewRodd"
      },
      "source": [
        "# **Experiment 1**\n",
        "Using Convolutional Neural Network"
      ]
    },
    {
      "cell_type": "markdown",
      "metadata": {
        "id": "olBQ_MlTmqfU"
      },
      "source": [
        "Mount drive"
      ]
    },
    {
      "cell_type": "code",
      "metadata": {
        "colab": {
          "base_uri": "https://localhost:8080/"
        },
        "id": "w8cm2SMbmcAi",
        "outputId": "d143786f-95b8-4115-ae4e-af3c28d0c0a2"
      },
      "source": [
        "from google.colab import drive\n",
        "drive.mount('/content/drive')"
      ],
      "execution_count": null,
      "outputs": [
        {
          "output_type": "stream",
          "text": [
            "Mounted at /content/drive\n"
          ],
          "name": "stdout"
        }
      ]
    },
    {
      "cell_type": "code",
      "metadata": {
        "id": "_r8tUvAzmwAp"
      },
      "source": [
        "import os\n",
        "os.chdir(\"drive/My Drive/ML: Siren Detector\")"
      ],
      "execution_count": null,
      "outputs": []
    },
    {
      "cell_type": "markdown",
      "metadata": {
        "id": "nKrMee5Tm2GQ"
      },
      "source": [
        "Import Libraries"
      ]
    },
    {
      "cell_type": "code",
      "metadata": {
        "colab": {
          "base_uri": "https://localhost:8080/",
          "height": 35
        },
        "id": "juZ6nk5fqoLi",
        "outputId": "cbdef5ae-2c08-4339-ad54-297af4749f77"
      },
      "source": [
        "import tensorflow as tf\n",
        "tf.test.gpu_device_name()"
      ],
      "execution_count": null,
      "outputs": [
        {
          "output_type": "execute_result",
          "data": {
            "application/vnd.google.colaboratory.intrinsic+json": {
              "type": "string"
            },
            "text/plain": [
              "'/device:GPU:0'"
            ]
          },
          "metadata": {
            "tags": []
          },
          "execution_count": 3
        }
      ]
    },
    {
      "cell_type": "code",
      "metadata": {
        "id": "j2zmS_q96bP4"
      },
      "source": [
        "from tensorflow import keras\n",
        "from keras.models import Sequential\n",
        "from keras.layers import Dense, Dropout, Flatten\n",
        "from keras.layers import Conv2D, MaxPooling2D\n",
        "from keras.utils.np_utils import to_categorical\n",
        "from keras.preprocessing import image\n",
        "import cv2\n",
        "import numpy as np\n",
        "import pandas as pd\n",
        "import matplotlib.pyplot as plt\n",
        "from tqdm import tqdm"
      ],
      "execution_count": null,
      "outputs": []
    },
    {
      "cell_type": "markdown",
      "metadata": {
        "id": "mYDPVlO7tkk9"
      },
      "source": [
        "Load dataset"
      ]
    },
    {
      "cell_type": "code",
      "metadata": {
        "colab": {
          "base_uri": "https://localhost:8080/",
          "height": 204
        },
        "id": "E1mvdEPYdYti",
        "outputId": "700f27e3-85ab-4042-e069-107bec2c0221"
      },
      "source": [
        "df = pd.read_csv('UrbanSound8K/metadata/UrbanSound8K_image.csv')\n",
        "df.head()"
      ],
      "execution_count": null,
      "outputs": [
        {
          "output_type": "execute_result",
          "data": {
            "text/html": [
              "<div>\n",
              "<style scoped>\n",
              "    .dataframe tbody tr th:only-of-type {\n",
              "        vertical-align: middle;\n",
              "    }\n",
              "\n",
              "    .dataframe tbody tr th {\n",
              "        vertical-align: top;\n",
              "    }\n",
              "\n",
              "    .dataframe thead th {\n",
              "        text-align: right;\n",
              "    }\n",
              "</style>\n",
              "<table border=\"1\" class=\"dataframe\">\n",
              "  <thead>\n",
              "    <tr style=\"text-align: right;\">\n",
              "      <th></th>\n",
              "      <th>slice_file_name</th>\n",
              "      <th>fsID</th>\n",
              "      <th>start</th>\n",
              "      <th>end</th>\n",
              "      <th>salience</th>\n",
              "      <th>fold</th>\n",
              "      <th>classID</th>\n",
              "      <th>class</th>\n",
              "    </tr>\n",
              "  </thead>\n",
              "  <tbody>\n",
              "    <tr>\n",
              "      <th>0</th>\n",
              "      <td>100032-3-0-0.png</td>\n",
              "      <td>100032</td>\n",
              "      <td>0.0</td>\n",
              "      <td>0.317551</td>\n",
              "      <td>1</td>\n",
              "      <td>5</td>\n",
              "      <td>3</td>\n",
              "      <td>dog_bark</td>\n",
              "    </tr>\n",
              "    <tr>\n",
              "      <th>1</th>\n",
              "      <td>100263-2-0-117.png</td>\n",
              "      <td>100263</td>\n",
              "      <td>58.5</td>\n",
              "      <td>62.500000</td>\n",
              "      <td>1</td>\n",
              "      <td>5</td>\n",
              "      <td>2</td>\n",
              "      <td>children_playing</td>\n",
              "    </tr>\n",
              "    <tr>\n",
              "      <th>2</th>\n",
              "      <td>100263-2-0-121.png</td>\n",
              "      <td>100263</td>\n",
              "      <td>60.5</td>\n",
              "      <td>64.500000</td>\n",
              "      <td>1</td>\n",
              "      <td>5</td>\n",
              "      <td>2</td>\n",
              "      <td>children_playing</td>\n",
              "    </tr>\n",
              "    <tr>\n",
              "      <th>3</th>\n",
              "      <td>100263-2-0-126.png</td>\n",
              "      <td>100263</td>\n",
              "      <td>63.0</td>\n",
              "      <td>67.000000</td>\n",
              "      <td>1</td>\n",
              "      <td>5</td>\n",
              "      <td>2</td>\n",
              "      <td>children_playing</td>\n",
              "    </tr>\n",
              "    <tr>\n",
              "      <th>4</th>\n",
              "      <td>100263-2-0-137.png</td>\n",
              "      <td>100263</td>\n",
              "      <td>68.5</td>\n",
              "      <td>72.500000</td>\n",
              "      <td>1</td>\n",
              "      <td>5</td>\n",
              "      <td>2</td>\n",
              "      <td>children_playing</td>\n",
              "    </tr>\n",
              "  </tbody>\n",
              "</table>\n",
              "</div>"
            ],
            "text/plain": [
              "      slice_file_name    fsID  start  ...  fold  classID             class\n",
              "0    100032-3-0-0.png  100032    0.0  ...     5        3          dog_bark\n",
              "1  100263-2-0-117.png  100263   58.5  ...     5        2  children_playing\n",
              "2  100263-2-0-121.png  100263   60.5  ...     5        2  children_playing\n",
              "3  100263-2-0-126.png  100263   63.0  ...     5        2  children_playing\n",
              "4  100263-2-0-137.png  100263   68.5  ...     5        2  children_playing\n",
              "\n",
              "[5 rows x 8 columns]"
            ]
          },
          "metadata": {
            "tags": []
          },
          "execution_count": 6
        }
      ]
    },
    {
      "cell_type": "markdown",
      "metadata": {
        "id": "47B365kJtmcC"
      },
      "source": [
        "Train and test set split"
      ]
    },
    {
      "cell_type": "code",
      "metadata": {
        "id": "r_ExHRlHUNZM"
      },
      "source": [
        "from sklearn.model_selection import train_test_split\n",
        "\n",
        "labels = np.array(df['classID'])\n",
        "train_df, test_df = train_test_split(df, test_size=0.2, stratify=labels)"
      ],
      "execution_count": null,
      "outputs": []
    },
    {
      "cell_type": "code",
      "metadata": {
        "id": "PnWV7UcximX6"
      },
      "source": [
        "def path_class(filename):\n",
        "    excerpt = df[df['slice_file_name'] == filename]\n",
        "    path_name = os.path.join('UrbanSound8K/image', 'fold'+str(excerpt.fold.values[0]), filename)\n",
        "    return path_name, excerpt['class'].values[0]"
      ],
      "execution_count": null,
      "outputs": []
    },
    {
      "cell_type": "markdown",
      "metadata": {
        "id": "KKFlVLEztoMU"
      },
      "source": [
        "**Preprocessing**\n",
        "\n",
        "Convert images to numpy array and save"
      ]
    },
    {
      "cell_type": "code",
      "metadata": {
        "colab": {
          "base_uri": "https://localhost:8080/"
        },
        "id": "Ge0odukqidJr",
        "outputId": "88b28f60-3948-40bd-cbeb-73f5b7470f06"
      },
      "source": [
        "train_image = []\n",
        "for i in tqdm(train_df.slice_file_name):\n",
        "    fullpath, label = path_class(i)\n",
        "    img = image.load_img(fullpath, target_size=(32,32,1), color_mode=\"grayscale\")\n",
        "    img = image.img_to_array(img)\n",
        "    img = img/255\n",
        "    train_image.append(img)\n",
        "X_train = np.array(train_image)"
      ],
      "execution_count": null,
      "outputs": [
        {
          "output_type": "stream",
          "text": [
            "100%|██████████| 6985/6985 [04:21<00:00, 26.76it/s]\n"
          ],
          "name": "stderr"
        }
      ]
    },
    {
      "cell_type": "code",
      "metadata": {
        "id": "0pVgYdjB5xWg"
      },
      "source": [
        "np.save('UrbanSound8K/X_train.npy', X_train)"
      ],
      "execution_count": null,
      "outputs": []
    },
    {
      "cell_type": "code",
      "metadata": {
        "colab": {
          "base_uri": "https://localhost:8080/"
        },
        "id": "Glt7zKaH0Y9O",
        "outputId": "e0c4887b-c60d-437c-fb6f-0d7a7f9fc962"
      },
      "source": [
        "test_image = []\n",
        "for i in tqdm(test_df.slice_file_name):\n",
        "    fullpath, label = path_class(i)\n",
        "    img = image.load_img(fullpath, target_size=(32,32,1), color_mode=\"grayscale\")\n",
        "    img = image.img_to_array(img)\n",
        "    img = img/255\n",
        "    test_image.append(img)\n",
        "X_test = np.array(test_image)"
      ],
      "execution_count": null,
      "outputs": [
        {
          "output_type": "stream",
          "text": [
            "100%|██████████| 1747/1747 [10:35<00:00,  2.75it/s]\n"
          ],
          "name": "stderr"
        }
      ]
    },
    {
      "cell_type": "code",
      "metadata": {
        "id": "ZiAOcLUq4r1J"
      },
      "source": [
        "np.save('UrbanSound8K/X_test.npy', X_test)"
      ],
      "execution_count": null,
      "outputs": []
    },
    {
      "cell_type": "code",
      "metadata": {
        "id": "_LvXDr7I0svq"
      },
      "source": [
        "y_train = train_df['classID'].values\n",
        "y_train = to_categorical(y_train)\n",
        "np.save('UrbanSound8K/y_train.npy', y_train)\n",
        "\n",
        "y_test = test_df['classID'].values\n",
        "y_test = to_categorical(y_test)\n",
        "np.save('UrbanSound8K/y_test.npy', y_test)"
      ],
      "execution_count": null,
      "outputs": []
    },
    {
      "cell_type": "markdown",
      "metadata": {
        "id": "dQ_AvRyZAMV2"
      },
      "source": [
        "Load the saved features"
      ]
    },
    {
      "cell_type": "code",
      "metadata": {
        "id": "zx1LMDIGAEXJ"
      },
      "source": [
        "X_train = np.load('UrbanSound8K/X_train.npy')\n",
        "X_test = np.load('UrbanSound8K/X_test.npy')"
      ],
      "execution_count": null,
      "outputs": []
    },
    {
      "cell_type": "code",
      "metadata": {
        "id": "ENZHa_DmpubN"
      },
      "source": [
        "y_train = np.load('UrbanSound8K/y_train.npy')\n",
        "y_test = np.load('UrbanSound8K/y_test.npy')"
      ],
      "execution_count": null,
      "outputs": []
    },
    {
      "cell_type": "markdown",
      "metadata": {
        "id": "Nb_ptU1AhddP"
      },
      "source": [
        "# The CNN Classifier"
      ]
    },
    {
      "cell_type": "markdown",
      "metadata": {
        "id": "LM_dLFuVME3u"
      },
      "source": [
        "Model architecture was inspired from this [Pyimagesearch article](https://www.pyimagesearch.com/2018/12/31/keras-conv2d-and-convolutional-layers/)"
      ]
    },
    {
      "cell_type": "markdown",
      "metadata": {
        "id": "MAdZWWN-OLvk"
      },
      "source": [
        "Conv2D Layer of Keras\n",
        "\n",
        "![image.png](data:image/png;base64,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)"
      ]
    },
    {
      "cell_type": "code",
      "metadata": {
        "id": "Jv1PbFr4hcYf",
        "colab": {
          "base_uri": "https://localhost:8080/",
          "height": 467
        },
        "outputId": "a39c17bb-1eb8-4309-bcb4-756e68245a26"
      },
      "source": [
        "model = Sequential()\n",
        "model.add(Conv2D(16, kernel_size=(7, 7), activation='relu', input_shape=(32,32,1)))\n",
        "model.add(MaxPooling2D(pool_size=(2, 2)))\n",
        "\n",
        "model.add(Conv2D(32, kernel_size=(3, 3), activation='relu'))\n",
        "model.add(Conv2D(32, kernel_size=(3, 3), activation='relu'))\n",
        "#model.add(MaxPooling2D(pool_size=(2, 2)))\n",
        "model.add(Dropout(0.25))\n",
        "\n",
        "model.add(Conv2D(64, kernel_size=(3, 3), activation='relu'))\n",
        "model.add(Conv2D(64, kernel_size=(3, 3), activation='relu'))\n",
        "#model.add(MaxPooling2D(pool_size=(2, 2)))\n",
        "model.add(Dropout(0.25))\n",
        "\n",
        "model.add(Conv2D(128, kernel_size=(3, 3), activation='relu'))\n",
        "model.add(Conv2D(128, kernel_size=(3, 3), activation='relu'))\n",
        "model.add(MaxPooling2D(pool_size=(2, 2)))\n",
        "model.add(Dropout(0.25))\n",
        "\n",
        "model.add(Flatten())\n",
        "model.add(Dense(512, activation='relu'))\n",
        "model.add(Dropout(0.25))\n",
        "model.add(Dense(10, activation='softmax'))"
      ],
      "execution_count": null,
      "outputs": [
        {
          "output_type": "error",
          "ename": "ValueError",
          "evalue": "ignored",
          "traceback": [
            "\u001b[0;31m---------------------------------------------------------------------------\u001b[0m",
            "\u001b[0;31mInvalidArgumentError\u001b[0m                      Traceback (most recent call last)",
            "\u001b[0;32m/usr/local/lib/python3.7/dist-packages/tensorflow/python/framework/ops.py\u001b[0m in \u001b[0;36m_create_c_op\u001b[0;34m(graph, node_def, inputs, control_inputs, op_def)\u001b[0m\n\u001b[1;32m   1879\u001b[0m   \u001b[0;32mtry\u001b[0m\u001b[0;34m:\u001b[0m\u001b[0;34m\u001b[0m\u001b[0;34m\u001b[0m\u001b[0m\n\u001b[0;32m-> 1880\u001b[0;31m     \u001b[0mc_op\u001b[0m \u001b[0;34m=\u001b[0m \u001b[0mpywrap_tf_session\u001b[0m\u001b[0;34m.\u001b[0m\u001b[0mTF_FinishOperation\u001b[0m\u001b[0;34m(\u001b[0m\u001b[0mop_desc\u001b[0m\u001b[0;34m)\u001b[0m\u001b[0;34m\u001b[0m\u001b[0;34m\u001b[0m\u001b[0m\n\u001b[0m\u001b[1;32m   1881\u001b[0m   \u001b[0;32mexcept\u001b[0m \u001b[0merrors\u001b[0m\u001b[0;34m.\u001b[0m\u001b[0mInvalidArgumentError\u001b[0m \u001b[0;32mas\u001b[0m \u001b[0me\u001b[0m\u001b[0;34m:\u001b[0m\u001b[0;34m\u001b[0m\u001b[0;34m\u001b[0m\u001b[0m\n",
            "\u001b[0;31mInvalidArgumentError\u001b[0m: Negative dimension size caused by subtracting 2 from 1 for '{{node max_pooling2d_9/MaxPool}} = MaxPool[T=DT_FLOAT, data_format=\"NHWC\", explicit_paddings=[], ksize=[1, 2, 2, 1], padding=\"VALID\", strides=[1, 2, 2, 1]](Placeholder)' with input shapes: [?,1,1,128].",
            "\nDuring handling of the above exception, another exception occurred:\n",
            "\u001b[0;31mValueError\u001b[0m                                Traceback (most recent call last)",
            "\u001b[0;32m<ipython-input-23-ac110fc0a61b>\u001b[0m in \u001b[0;36m<module>\u001b[0;34m()\u001b[0m\n\u001b[1;32m     15\u001b[0m \u001b[0mmodel\u001b[0m\u001b[0;34m.\u001b[0m\u001b[0madd\u001b[0m\u001b[0;34m(\u001b[0m\u001b[0mConv2D\u001b[0m\u001b[0;34m(\u001b[0m\u001b[0;36m128\u001b[0m\u001b[0;34m,\u001b[0m \u001b[0mkernel_size\u001b[0m\u001b[0;34m=\u001b[0m\u001b[0;34m(\u001b[0m\u001b[0;36m3\u001b[0m\u001b[0;34m,\u001b[0m \u001b[0;36m3\u001b[0m\u001b[0;34m)\u001b[0m\u001b[0;34m,\u001b[0m \u001b[0mactivation\u001b[0m\u001b[0;34m=\u001b[0m\u001b[0;34m'relu'\u001b[0m\u001b[0;34m)\u001b[0m\u001b[0;34m)\u001b[0m\u001b[0;34m\u001b[0m\u001b[0;34m\u001b[0m\u001b[0m\n\u001b[1;32m     16\u001b[0m \u001b[0mmodel\u001b[0m\u001b[0;34m.\u001b[0m\u001b[0madd\u001b[0m\u001b[0;34m(\u001b[0m\u001b[0mConv2D\u001b[0m\u001b[0;34m(\u001b[0m\u001b[0;36m128\u001b[0m\u001b[0;34m,\u001b[0m \u001b[0mkernel_size\u001b[0m\u001b[0;34m=\u001b[0m\u001b[0;34m(\u001b[0m\u001b[0;36m3\u001b[0m\u001b[0;34m,\u001b[0m \u001b[0;36m3\u001b[0m\u001b[0;34m)\u001b[0m\u001b[0;34m,\u001b[0m \u001b[0mactivation\u001b[0m\u001b[0;34m=\u001b[0m\u001b[0;34m'relu'\u001b[0m\u001b[0;34m)\u001b[0m\u001b[0;34m)\u001b[0m\u001b[0;34m\u001b[0m\u001b[0;34m\u001b[0m\u001b[0m\n\u001b[0;32m---> 17\u001b[0;31m \u001b[0mmodel\u001b[0m\u001b[0;34m.\u001b[0m\u001b[0madd\u001b[0m\u001b[0;34m(\u001b[0m\u001b[0mMaxPooling2D\u001b[0m\u001b[0;34m(\u001b[0m\u001b[0mpool_size\u001b[0m\u001b[0;34m=\u001b[0m\u001b[0;34m(\u001b[0m\u001b[0;36m2\u001b[0m\u001b[0;34m,\u001b[0m \u001b[0;36m2\u001b[0m\u001b[0;34m)\u001b[0m\u001b[0;34m)\u001b[0m\u001b[0;34m)\u001b[0m\u001b[0;34m\u001b[0m\u001b[0;34m\u001b[0m\u001b[0m\n\u001b[0m\u001b[1;32m     18\u001b[0m \u001b[0mmodel\u001b[0m\u001b[0;34m.\u001b[0m\u001b[0madd\u001b[0m\u001b[0;34m(\u001b[0m\u001b[0mDropout\u001b[0m\u001b[0;34m(\u001b[0m\u001b[0;36m0.25\u001b[0m\u001b[0;34m)\u001b[0m\u001b[0;34m)\u001b[0m\u001b[0;34m\u001b[0m\u001b[0;34m\u001b[0m\u001b[0m\n\u001b[1;32m     19\u001b[0m \u001b[0;34m\u001b[0m\u001b[0m\n",
            "\u001b[0;32m/usr/local/lib/python3.7/dist-packages/tensorflow/python/training/tracking/base.py\u001b[0m in \u001b[0;36m_method_wrapper\u001b[0;34m(self, *args, **kwargs)\u001b[0m\n\u001b[1;32m    520\u001b[0m     \u001b[0mself\u001b[0m\u001b[0;34m.\u001b[0m\u001b[0m_self_setattr_tracking\u001b[0m \u001b[0;34m=\u001b[0m \u001b[0;32mFalse\u001b[0m  \u001b[0;31m# pylint: disable=protected-access\u001b[0m\u001b[0;34m\u001b[0m\u001b[0;34m\u001b[0m\u001b[0m\n\u001b[1;32m    521\u001b[0m     \u001b[0;32mtry\u001b[0m\u001b[0;34m:\u001b[0m\u001b[0;34m\u001b[0m\u001b[0;34m\u001b[0m\u001b[0m\n\u001b[0;32m--> 522\u001b[0;31m       \u001b[0mresult\u001b[0m \u001b[0;34m=\u001b[0m \u001b[0mmethod\u001b[0m\u001b[0;34m(\u001b[0m\u001b[0mself\u001b[0m\u001b[0;34m,\u001b[0m \u001b[0;34m*\u001b[0m\u001b[0margs\u001b[0m\u001b[0;34m,\u001b[0m \u001b[0;34m**\u001b[0m\u001b[0mkwargs\u001b[0m\u001b[0;34m)\u001b[0m\u001b[0;34m\u001b[0m\u001b[0;34m\u001b[0m\u001b[0m\n\u001b[0m\u001b[1;32m    523\u001b[0m     \u001b[0;32mfinally\u001b[0m\u001b[0;34m:\u001b[0m\u001b[0;34m\u001b[0m\u001b[0;34m\u001b[0m\u001b[0m\n\u001b[1;32m    524\u001b[0m       \u001b[0mself\u001b[0m\u001b[0;34m.\u001b[0m\u001b[0m_self_setattr_tracking\u001b[0m \u001b[0;34m=\u001b[0m \u001b[0mprevious_value\u001b[0m  \u001b[0;31m# pylint: disable=protected-access\u001b[0m\u001b[0;34m\u001b[0m\u001b[0;34m\u001b[0m\u001b[0m\n",
            "\u001b[0;32m/usr/local/lib/python3.7/dist-packages/keras/engine/sequential.py\u001b[0m in \u001b[0;36madd\u001b[0;34m(self, layer)\u001b[0m\n\u001b[1;32m    221\u001b[0m       \u001b[0;31m# If the model is being built continuously on top of an input layer:\u001b[0m\u001b[0;34m\u001b[0m\u001b[0;34m\u001b[0m\u001b[0;34m\u001b[0m\u001b[0m\n\u001b[1;32m    222\u001b[0m       \u001b[0;31m# refresh its output.\u001b[0m\u001b[0;34m\u001b[0m\u001b[0;34m\u001b[0m\u001b[0;34m\u001b[0m\u001b[0m\n\u001b[0;32m--> 223\u001b[0;31m       \u001b[0moutput_tensor\u001b[0m \u001b[0;34m=\u001b[0m \u001b[0mlayer\u001b[0m\u001b[0;34m(\u001b[0m\u001b[0mself\u001b[0m\u001b[0;34m.\u001b[0m\u001b[0moutputs\u001b[0m\u001b[0;34m[\u001b[0m\u001b[0;36m0\u001b[0m\u001b[0;34m]\u001b[0m\u001b[0;34m)\u001b[0m\u001b[0;34m\u001b[0m\u001b[0;34m\u001b[0m\u001b[0m\n\u001b[0m\u001b[1;32m    224\u001b[0m       \u001b[0;32mif\u001b[0m \u001b[0mlen\u001b[0m\u001b[0;34m(\u001b[0m\u001b[0mtf\u001b[0m\u001b[0;34m.\u001b[0m\u001b[0mnest\u001b[0m\u001b[0;34m.\u001b[0m\u001b[0mflatten\u001b[0m\u001b[0;34m(\u001b[0m\u001b[0moutput_tensor\u001b[0m\u001b[0;34m)\u001b[0m\u001b[0;34m)\u001b[0m \u001b[0;34m!=\u001b[0m \u001b[0;36m1\u001b[0m\u001b[0;34m:\u001b[0m\u001b[0;34m\u001b[0m\u001b[0;34m\u001b[0m\u001b[0m\n\u001b[1;32m    225\u001b[0m         \u001b[0;32mraise\u001b[0m \u001b[0mValueError\u001b[0m\u001b[0;34m(\u001b[0m\u001b[0mSINGLE_LAYER_OUTPUT_ERROR_MSG\u001b[0m\u001b[0;34m)\u001b[0m\u001b[0;34m\u001b[0m\u001b[0;34m\u001b[0m\u001b[0m\n",
            "\u001b[0;32m/usr/local/lib/python3.7/dist-packages/keras/engine/base_layer.py\u001b[0m in \u001b[0;36m__call__\u001b[0;34m(self, *args, **kwargs)\u001b[0m\n\u001b[1;32m    944\u001b[0m     \u001b[0;32mif\u001b[0m \u001b[0m_in_functional_construction_mode\u001b[0m\u001b[0;34m(\u001b[0m\u001b[0mself\u001b[0m\u001b[0;34m,\u001b[0m \u001b[0minputs\u001b[0m\u001b[0;34m,\u001b[0m \u001b[0margs\u001b[0m\u001b[0;34m,\u001b[0m \u001b[0mkwargs\u001b[0m\u001b[0;34m,\u001b[0m \u001b[0minput_list\u001b[0m\u001b[0;34m)\u001b[0m\u001b[0;34m:\u001b[0m\u001b[0;34m\u001b[0m\u001b[0;34m\u001b[0m\u001b[0m\n\u001b[1;32m    945\u001b[0m       return self._functional_construction_call(inputs, args, kwargs,\n\u001b[0;32m--> 946\u001b[0;31m                                                 input_list)\n\u001b[0m\u001b[1;32m    947\u001b[0m \u001b[0;34m\u001b[0m\u001b[0m\n\u001b[1;32m    948\u001b[0m     \u001b[0;31m# Maintains info about the `Layer.call` stack.\u001b[0m\u001b[0;34m\u001b[0m\u001b[0;34m\u001b[0m\u001b[0;34m\u001b[0m\u001b[0m\n",
            "\u001b[0;32m/usr/local/lib/python3.7/dist-packages/keras/engine/base_layer.py\u001b[0m in \u001b[0;36m_functional_construction_call\u001b[0;34m(self, inputs, args, kwargs, input_list)\u001b[0m\n\u001b[1;32m   1082\u001b[0m       \u001b[0;31m# Check input assumptions set after layer building, e.g. input shape.\u001b[0m\u001b[0;34m\u001b[0m\u001b[0;34m\u001b[0m\u001b[0;34m\u001b[0m\u001b[0m\n\u001b[1;32m   1083\u001b[0m       outputs = self._keras_tensor_symbolic_call(\n\u001b[0;32m-> 1084\u001b[0;31m           inputs, input_masks, args, kwargs)\n\u001b[0m\u001b[1;32m   1085\u001b[0m \u001b[0;34m\u001b[0m\u001b[0m\n\u001b[1;32m   1086\u001b[0m       \u001b[0;32mif\u001b[0m \u001b[0moutputs\u001b[0m \u001b[0;32mis\u001b[0m \u001b[0;32mNone\u001b[0m\u001b[0;34m:\u001b[0m\u001b[0;34m\u001b[0m\u001b[0;34m\u001b[0m\u001b[0m\n",
            "\u001b[0;32m/usr/local/lib/python3.7/dist-packages/keras/engine/base_layer.py\u001b[0m in \u001b[0;36m_keras_tensor_symbolic_call\u001b[0;34m(self, inputs, input_masks, args, kwargs)\u001b[0m\n\u001b[1;32m    814\u001b[0m       \u001b[0;32mreturn\u001b[0m \u001b[0mtf\u001b[0m\u001b[0;34m.\u001b[0m\u001b[0mnest\u001b[0m\u001b[0;34m.\u001b[0m\u001b[0mmap_structure\u001b[0m\u001b[0;34m(\u001b[0m\u001b[0mkeras_tensor\u001b[0m\u001b[0;34m.\u001b[0m\u001b[0mKerasTensor\u001b[0m\u001b[0;34m,\u001b[0m \u001b[0moutput_signature\u001b[0m\u001b[0;34m)\u001b[0m\u001b[0;34m\u001b[0m\u001b[0;34m\u001b[0m\u001b[0m\n\u001b[1;32m    815\u001b[0m     \u001b[0;32melse\u001b[0m\u001b[0;34m:\u001b[0m\u001b[0;34m\u001b[0m\u001b[0;34m\u001b[0m\u001b[0m\n\u001b[0;32m--> 816\u001b[0;31m       \u001b[0;32mreturn\u001b[0m \u001b[0mself\u001b[0m\u001b[0;34m.\u001b[0m\u001b[0m_infer_output_signature\u001b[0m\u001b[0;34m(\u001b[0m\u001b[0minputs\u001b[0m\u001b[0;34m,\u001b[0m \u001b[0margs\u001b[0m\u001b[0;34m,\u001b[0m \u001b[0mkwargs\u001b[0m\u001b[0;34m,\u001b[0m \u001b[0minput_masks\u001b[0m\u001b[0;34m)\u001b[0m\u001b[0;34m\u001b[0m\u001b[0;34m\u001b[0m\u001b[0m\n\u001b[0m\u001b[1;32m    817\u001b[0m \u001b[0;34m\u001b[0m\u001b[0m\n\u001b[1;32m    818\u001b[0m   \u001b[0;32mdef\u001b[0m \u001b[0m_infer_output_signature\u001b[0m\u001b[0;34m(\u001b[0m\u001b[0mself\u001b[0m\u001b[0;34m,\u001b[0m \u001b[0minputs\u001b[0m\u001b[0;34m,\u001b[0m \u001b[0margs\u001b[0m\u001b[0;34m,\u001b[0m \u001b[0mkwargs\u001b[0m\u001b[0;34m,\u001b[0m \u001b[0minput_masks\u001b[0m\u001b[0;34m)\u001b[0m\u001b[0;34m:\u001b[0m\u001b[0;34m\u001b[0m\u001b[0;34m\u001b[0m\u001b[0m\n",
            "\u001b[0;32m/usr/local/lib/python3.7/dist-packages/keras/engine/base_layer.py\u001b[0m in \u001b[0;36m_infer_output_signature\u001b[0;34m(self, inputs, args, kwargs, input_masks)\u001b[0m\n\u001b[1;32m    854\u001b[0m           \u001b[0mself\u001b[0m\u001b[0;34m.\u001b[0m\u001b[0m_maybe_build\u001b[0m\u001b[0;34m(\u001b[0m\u001b[0minputs\u001b[0m\u001b[0;34m)\u001b[0m\u001b[0;34m\u001b[0m\u001b[0;34m\u001b[0m\u001b[0m\n\u001b[1;32m    855\u001b[0m           \u001b[0minputs\u001b[0m \u001b[0;34m=\u001b[0m \u001b[0mself\u001b[0m\u001b[0;34m.\u001b[0m\u001b[0m_maybe_cast_inputs\u001b[0m\u001b[0;34m(\u001b[0m\u001b[0minputs\u001b[0m\u001b[0;34m)\u001b[0m\u001b[0;34m\u001b[0m\u001b[0;34m\u001b[0m\u001b[0m\n\u001b[0;32m--> 856\u001b[0;31m           \u001b[0moutputs\u001b[0m \u001b[0;34m=\u001b[0m \u001b[0mcall_fn\u001b[0m\u001b[0;34m(\u001b[0m\u001b[0minputs\u001b[0m\u001b[0;34m,\u001b[0m \u001b[0;34m*\u001b[0m\u001b[0margs\u001b[0m\u001b[0;34m,\u001b[0m \u001b[0;34m**\u001b[0m\u001b[0mkwargs\u001b[0m\u001b[0;34m)\u001b[0m\u001b[0;34m\u001b[0m\u001b[0;34m\u001b[0m\u001b[0m\n\u001b[0m\u001b[1;32m    857\u001b[0m \u001b[0;34m\u001b[0m\u001b[0m\n\u001b[1;32m    858\u001b[0m         \u001b[0mself\u001b[0m\u001b[0;34m.\u001b[0m\u001b[0m_handle_activity_regularization\u001b[0m\u001b[0;34m(\u001b[0m\u001b[0minputs\u001b[0m\u001b[0;34m,\u001b[0m \u001b[0moutputs\u001b[0m\u001b[0;34m)\u001b[0m\u001b[0;34m\u001b[0m\u001b[0;34m\u001b[0m\u001b[0m\n",
            "\u001b[0;32m/usr/local/lib/python3.7/dist-packages/keras/layers/pooling.py\u001b[0m in \u001b[0;36mcall\u001b[0;34m(self, inputs)\u001b[0m\n\u001b[1;32m    358\u001b[0m         \u001b[0mstrides\u001b[0m\u001b[0;34m=\u001b[0m\u001b[0mstrides\u001b[0m\u001b[0;34m,\u001b[0m\u001b[0;34m\u001b[0m\u001b[0;34m\u001b[0m\u001b[0m\n\u001b[1;32m    359\u001b[0m         \u001b[0mpadding\u001b[0m\u001b[0;34m=\u001b[0m\u001b[0mself\u001b[0m\u001b[0;34m.\u001b[0m\u001b[0mpadding\u001b[0m\u001b[0;34m.\u001b[0m\u001b[0mupper\u001b[0m\u001b[0;34m(\u001b[0m\u001b[0;34m)\u001b[0m\u001b[0;34m,\u001b[0m\u001b[0;34m\u001b[0m\u001b[0;34m\u001b[0m\u001b[0m\n\u001b[0;32m--> 360\u001b[0;31m         data_format=conv_utils.convert_data_format(self.data_format, 4))\n\u001b[0m\u001b[1;32m    361\u001b[0m     \u001b[0;32mreturn\u001b[0m \u001b[0moutputs\u001b[0m\u001b[0;34m\u001b[0m\u001b[0;34m\u001b[0m\u001b[0m\n\u001b[1;32m    362\u001b[0m \u001b[0;34m\u001b[0m\u001b[0m\n",
            "\u001b[0;32m/usr/local/lib/python3.7/dist-packages/tensorflow/python/util/dispatch.py\u001b[0m in \u001b[0;36mwrapper\u001b[0;34m(*args, **kwargs)\u001b[0m\n\u001b[1;32m    204\u001b[0m     \u001b[0;34m\"\"\"Call target, and fall back on dispatchers if there is a TypeError.\"\"\"\u001b[0m\u001b[0;34m\u001b[0m\u001b[0;34m\u001b[0m\u001b[0m\n\u001b[1;32m    205\u001b[0m     \u001b[0;32mtry\u001b[0m\u001b[0;34m:\u001b[0m\u001b[0;34m\u001b[0m\u001b[0;34m\u001b[0m\u001b[0m\n\u001b[0;32m--> 206\u001b[0;31m       \u001b[0;32mreturn\u001b[0m \u001b[0mtarget\u001b[0m\u001b[0;34m(\u001b[0m\u001b[0;34m*\u001b[0m\u001b[0margs\u001b[0m\u001b[0;34m,\u001b[0m \u001b[0;34m**\u001b[0m\u001b[0mkwargs\u001b[0m\u001b[0;34m)\u001b[0m\u001b[0;34m\u001b[0m\u001b[0;34m\u001b[0m\u001b[0m\n\u001b[0m\u001b[1;32m    207\u001b[0m     \u001b[0;32mexcept\u001b[0m \u001b[0;34m(\u001b[0m\u001b[0mTypeError\u001b[0m\u001b[0;34m,\u001b[0m \u001b[0mValueError\u001b[0m\u001b[0;34m)\u001b[0m\u001b[0;34m:\u001b[0m\u001b[0;34m\u001b[0m\u001b[0;34m\u001b[0m\u001b[0m\n\u001b[1;32m    208\u001b[0m       \u001b[0;31m# Note: convert_to_eager_tensor currently raises a ValueError, not a\u001b[0m\u001b[0;34m\u001b[0m\u001b[0;34m\u001b[0m\u001b[0;34m\u001b[0m\u001b[0m\n",
            "\u001b[0;32m/usr/local/lib/python3.7/dist-packages/tensorflow/python/ops/nn_ops.py\u001b[0m in \u001b[0;36mmax_pool\u001b[0;34m(value, ksize, strides, padding, data_format, name, input)\u001b[0m\n\u001b[1;32m   4658\u001b[0m         \u001b[0mexplicit_paddings\u001b[0m\u001b[0;34m=\u001b[0m\u001b[0mexplicit_paddings\u001b[0m\u001b[0;34m,\u001b[0m\u001b[0;34m\u001b[0m\u001b[0;34m\u001b[0m\u001b[0m\n\u001b[1;32m   4659\u001b[0m         \u001b[0mdata_format\u001b[0m\u001b[0;34m=\u001b[0m\u001b[0mdata_format\u001b[0m\u001b[0;34m,\u001b[0m\u001b[0;34m\u001b[0m\u001b[0;34m\u001b[0m\u001b[0m\n\u001b[0;32m-> 4660\u001b[0;31m         name=name)\n\u001b[0m\u001b[1;32m   4661\u001b[0m \u001b[0;34m\u001b[0m\u001b[0m\n\u001b[1;32m   4662\u001b[0m \u001b[0;34m\u001b[0m\u001b[0m\n",
            "\u001b[0;32m/usr/local/lib/python3.7/dist-packages/tensorflow/python/ops/gen_nn_ops.py\u001b[0m in \u001b[0;36mmax_pool\u001b[0;34m(input, ksize, strides, padding, explicit_paddings, data_format, name)\u001b[0m\n\u001b[1;32m   5342\u001b[0m         \u001b[0;34m\"MaxPool\"\u001b[0m\u001b[0;34m,\u001b[0m \u001b[0minput\u001b[0m\u001b[0;34m=\u001b[0m\u001b[0minput\u001b[0m\u001b[0;34m,\u001b[0m \u001b[0mksize\u001b[0m\u001b[0;34m=\u001b[0m\u001b[0mksize\u001b[0m\u001b[0;34m,\u001b[0m \u001b[0mstrides\u001b[0m\u001b[0;34m=\u001b[0m\u001b[0mstrides\u001b[0m\u001b[0;34m,\u001b[0m \u001b[0mpadding\u001b[0m\u001b[0;34m=\u001b[0m\u001b[0mpadding\u001b[0m\u001b[0;34m,\u001b[0m\u001b[0;34m\u001b[0m\u001b[0;34m\u001b[0m\u001b[0m\n\u001b[1;32m   5343\u001b[0m                    \u001b[0mexplicit_paddings\u001b[0m\u001b[0;34m=\u001b[0m\u001b[0mexplicit_paddings\u001b[0m\u001b[0;34m,\u001b[0m\u001b[0;34m\u001b[0m\u001b[0;34m\u001b[0m\u001b[0m\n\u001b[0;32m-> 5344\u001b[0;31m                    data_format=data_format, name=name)\n\u001b[0m\u001b[1;32m   5345\u001b[0m   \u001b[0m_result\u001b[0m \u001b[0;34m=\u001b[0m \u001b[0m_outputs\u001b[0m\u001b[0;34m[\u001b[0m\u001b[0;34m:\u001b[0m\u001b[0;34m]\u001b[0m\u001b[0;34m\u001b[0m\u001b[0;34m\u001b[0m\u001b[0m\n\u001b[1;32m   5346\u001b[0m   \u001b[0;32mif\u001b[0m \u001b[0m_execute\u001b[0m\u001b[0;34m.\u001b[0m\u001b[0mmust_record_gradient\u001b[0m\u001b[0;34m(\u001b[0m\u001b[0;34m)\u001b[0m\u001b[0;34m:\u001b[0m\u001b[0;34m\u001b[0m\u001b[0;34m\u001b[0m\u001b[0m\n",
            "\u001b[0;32m/usr/local/lib/python3.7/dist-packages/tensorflow/python/framework/op_def_library.py\u001b[0m in \u001b[0;36m_apply_op_helper\u001b[0;34m(op_type_name, name, **keywords)\u001b[0m\n\u001b[1;32m    748\u001b[0m       op = g._create_op_internal(op_type_name, inputs, dtypes=None,\n\u001b[1;32m    749\u001b[0m                                  \u001b[0mname\u001b[0m\u001b[0;34m=\u001b[0m\u001b[0mscope\u001b[0m\u001b[0;34m,\u001b[0m \u001b[0minput_types\u001b[0m\u001b[0;34m=\u001b[0m\u001b[0minput_types\u001b[0m\u001b[0;34m,\u001b[0m\u001b[0;34m\u001b[0m\u001b[0;34m\u001b[0m\u001b[0m\n\u001b[0;32m--> 750\u001b[0;31m                                  attrs=attr_protos, op_def=op_def)\n\u001b[0m\u001b[1;32m    751\u001b[0m \u001b[0;34m\u001b[0m\u001b[0m\n\u001b[1;32m    752\u001b[0m     \u001b[0;31m# `outputs` is returned as a separate return value so that the output\u001b[0m\u001b[0;34m\u001b[0m\u001b[0;34m\u001b[0m\u001b[0;34m\u001b[0m\u001b[0m\n",
            "\u001b[0;32m/usr/local/lib/python3.7/dist-packages/tensorflow/python/framework/func_graph.py\u001b[0m in \u001b[0;36m_create_op_internal\u001b[0;34m(self, op_type, inputs, dtypes, input_types, name, attrs, op_def, compute_device)\u001b[0m\n\u001b[1;32m    599\u001b[0m     return super(FuncGraph, self)._create_op_internal(  # pylint: disable=protected-access\n\u001b[1;32m    600\u001b[0m         \u001b[0mop_type\u001b[0m\u001b[0;34m,\u001b[0m \u001b[0mcaptured_inputs\u001b[0m\u001b[0;34m,\u001b[0m \u001b[0mdtypes\u001b[0m\u001b[0;34m,\u001b[0m \u001b[0minput_types\u001b[0m\u001b[0;34m,\u001b[0m \u001b[0mname\u001b[0m\u001b[0;34m,\u001b[0m \u001b[0mattrs\u001b[0m\u001b[0;34m,\u001b[0m \u001b[0mop_def\u001b[0m\u001b[0;34m,\u001b[0m\u001b[0;34m\u001b[0m\u001b[0;34m\u001b[0m\u001b[0m\n\u001b[0;32m--> 601\u001b[0;31m         compute_device)\n\u001b[0m\u001b[1;32m    602\u001b[0m \u001b[0;34m\u001b[0m\u001b[0m\n\u001b[1;32m    603\u001b[0m   \u001b[0;32mdef\u001b[0m \u001b[0mcapture\u001b[0m\u001b[0;34m(\u001b[0m\u001b[0mself\u001b[0m\u001b[0;34m,\u001b[0m \u001b[0mtensor\u001b[0m\u001b[0;34m,\u001b[0m \u001b[0mname\u001b[0m\u001b[0;34m=\u001b[0m\u001b[0;32mNone\u001b[0m\u001b[0;34m,\u001b[0m \u001b[0mshape\u001b[0m\u001b[0;34m=\u001b[0m\u001b[0;32mNone\u001b[0m\u001b[0;34m)\u001b[0m\u001b[0;34m:\u001b[0m\u001b[0;34m\u001b[0m\u001b[0;34m\u001b[0m\u001b[0m\n",
            "\u001b[0;32m/usr/local/lib/python3.7/dist-packages/tensorflow/python/framework/ops.py\u001b[0m in \u001b[0;36m_create_op_internal\u001b[0;34m(self, op_type, inputs, dtypes, input_types, name, attrs, op_def, compute_device)\u001b[0m\n\u001b[1;32m   3563\u001b[0m           \u001b[0minput_types\u001b[0m\u001b[0;34m=\u001b[0m\u001b[0minput_types\u001b[0m\u001b[0;34m,\u001b[0m\u001b[0;34m\u001b[0m\u001b[0;34m\u001b[0m\u001b[0m\n\u001b[1;32m   3564\u001b[0m           \u001b[0moriginal_op\u001b[0m\u001b[0;34m=\u001b[0m\u001b[0mself\u001b[0m\u001b[0;34m.\u001b[0m\u001b[0m_default_original_op\u001b[0m\u001b[0;34m,\u001b[0m\u001b[0;34m\u001b[0m\u001b[0;34m\u001b[0m\u001b[0m\n\u001b[0;32m-> 3565\u001b[0;31m           op_def=op_def)\n\u001b[0m\u001b[1;32m   3566\u001b[0m       \u001b[0mself\u001b[0m\u001b[0;34m.\u001b[0m\u001b[0m_create_op_helper\u001b[0m\u001b[0;34m(\u001b[0m\u001b[0mret\u001b[0m\u001b[0;34m,\u001b[0m \u001b[0mcompute_device\u001b[0m\u001b[0;34m=\u001b[0m\u001b[0mcompute_device\u001b[0m\u001b[0;34m)\u001b[0m\u001b[0;34m\u001b[0m\u001b[0;34m\u001b[0m\u001b[0m\n\u001b[1;32m   3567\u001b[0m     \u001b[0;32mreturn\u001b[0m \u001b[0mret\u001b[0m\u001b[0;34m\u001b[0m\u001b[0;34m\u001b[0m\u001b[0m\n",
            "\u001b[0;32m/usr/local/lib/python3.7/dist-packages/tensorflow/python/framework/ops.py\u001b[0m in \u001b[0;36m__init__\u001b[0;34m(self, node_def, g, inputs, output_types, control_inputs, input_types, original_op, op_def)\u001b[0m\n\u001b[1;32m   2040\u001b[0m         \u001b[0mop_def\u001b[0m \u001b[0;34m=\u001b[0m \u001b[0mself\u001b[0m\u001b[0;34m.\u001b[0m\u001b[0m_graph\u001b[0m\u001b[0;34m.\u001b[0m\u001b[0m_get_op_def\u001b[0m\u001b[0;34m(\u001b[0m\u001b[0mnode_def\u001b[0m\u001b[0;34m.\u001b[0m\u001b[0mop\u001b[0m\u001b[0;34m)\u001b[0m\u001b[0;34m\u001b[0m\u001b[0;34m\u001b[0m\u001b[0m\n\u001b[1;32m   2041\u001b[0m       self._c_op = _create_c_op(self._graph, node_def, inputs,\n\u001b[0;32m-> 2042\u001b[0;31m                                 control_input_ops, op_def)\n\u001b[0m\u001b[1;32m   2043\u001b[0m       \u001b[0mname\u001b[0m \u001b[0;34m=\u001b[0m \u001b[0mcompat\u001b[0m\u001b[0;34m.\u001b[0m\u001b[0mas_str\u001b[0m\u001b[0;34m(\u001b[0m\u001b[0mnode_def\u001b[0m\u001b[0;34m.\u001b[0m\u001b[0mname\u001b[0m\u001b[0;34m)\u001b[0m\u001b[0;34m\u001b[0m\u001b[0;34m\u001b[0m\u001b[0m\n\u001b[1;32m   2044\u001b[0m \u001b[0;34m\u001b[0m\u001b[0m\n",
            "\u001b[0;32m/usr/local/lib/python3.7/dist-packages/tensorflow/python/framework/ops.py\u001b[0m in \u001b[0;36m_create_c_op\u001b[0;34m(graph, node_def, inputs, control_inputs, op_def)\u001b[0m\n\u001b[1;32m   1881\u001b[0m   \u001b[0;32mexcept\u001b[0m \u001b[0merrors\u001b[0m\u001b[0;34m.\u001b[0m\u001b[0mInvalidArgumentError\u001b[0m \u001b[0;32mas\u001b[0m \u001b[0me\u001b[0m\u001b[0;34m:\u001b[0m\u001b[0;34m\u001b[0m\u001b[0;34m\u001b[0m\u001b[0m\n\u001b[1;32m   1882\u001b[0m     \u001b[0;31m# Convert to ValueError for backwards compatibility.\u001b[0m\u001b[0;34m\u001b[0m\u001b[0;34m\u001b[0m\u001b[0;34m\u001b[0m\u001b[0m\n\u001b[0;32m-> 1883\u001b[0;31m     \u001b[0;32mraise\u001b[0m \u001b[0mValueError\u001b[0m\u001b[0;34m(\u001b[0m\u001b[0mstr\u001b[0m\u001b[0;34m(\u001b[0m\u001b[0me\u001b[0m\u001b[0;34m)\u001b[0m\u001b[0;34m)\u001b[0m\u001b[0;34m\u001b[0m\u001b[0;34m\u001b[0m\u001b[0m\n\u001b[0m\u001b[1;32m   1884\u001b[0m \u001b[0;34m\u001b[0m\u001b[0m\n\u001b[1;32m   1885\u001b[0m   \u001b[0;32mreturn\u001b[0m \u001b[0mc_op\u001b[0m\u001b[0;34m\u001b[0m\u001b[0;34m\u001b[0m\u001b[0m\n",
            "\u001b[0;31mValueError\u001b[0m: Negative dimension size caused by subtracting 2 from 1 for '{{node max_pooling2d_9/MaxPool}} = MaxPool[T=DT_FLOAT, data_format=\"NHWC\", explicit_paddings=[], ksize=[1, 2, 2, 1], padding=\"VALID\", strides=[1, 2, 2, 1]](Placeholder)' with input shapes: [?,1,1,128]."
          ]
        }
      ]
    },
    {
      "cell_type": "markdown",
      "metadata": {
        "id": "PV_GFAhBhmZI"
      },
      "source": [
        "Compile Model"
      ]
    },
    {
      "cell_type": "code",
      "metadata": {
        "colab": {
          "base_uri": "https://localhost:8080/"
        },
        "id": "g2U7EXUWD297",
        "outputId": "930a155b-05b6-4f6f-fe92-281a2d353a20"
      },
      "source": [
        "model.compile(loss=keras.losses.categorical_crossentropy, optimizer= \"Adam\", metrics=['accuracy'])\n",
        "print(model.summary())"
      ],
      "execution_count": null,
      "outputs": [
        {
          "output_type": "stream",
          "text": [
            "Model: \"sequential_2\"\n",
            "_________________________________________________________________\n",
            "Layer (type)                 Output Shape              Param #   \n",
            "=================================================================\n",
            "conv2d_5 (Conv2D)            (None, 30, 30, 16)        160       \n",
            "_________________________________________________________________\n",
            "conv2d_6 (Conv2D)            (None, 28, 28, 32)        4640      \n",
            "_________________________________________________________________\n",
            "max_pooling2d_3 (MaxPooling2 (None, 14, 14, 32)        0         \n",
            "_________________________________________________________________\n",
            "dropout_4 (Dropout)          (None, 14, 14, 32)        0         \n",
            "_________________________________________________________________\n",
            "flatten_2 (Flatten)          (None, 6272)              0         \n",
            "_________________________________________________________________\n",
            "dense_4 (Dense)              (None, 64)                401472    \n",
            "_________________________________________________________________\n",
            "dropout_5 (Dropout)          (None, 64)                0         \n",
            "_________________________________________________________________\n",
            "dense_5 (Dense)              (None, 10)                650       \n",
            "=================================================================\n",
            "Total params: 406,922\n",
            "Trainable params: 406,922\n",
            "Non-trainable params: 0\n",
            "_________________________________________________________________\n",
            "None\n"
          ],
          "name": "stdout"
        }
      ]
    },
    {
      "cell_type": "markdown",
      "metadata": {
        "id": "C5h3RbTEBbaC"
      },
      "source": [
        "Add callbacks"
      ]
    },
    {
      "cell_type": "code",
      "metadata": {
        "id": "bFDCNruLBdHo"
      },
      "source": [
        "from keras.callbacks import ModelCheckpoint\n",
        "checkpoint = ModelCheckpoint(filepath='my_model/classification_3.hdf5',\n",
        "                            monitor='val_accuracy',\n",
        "                            mode='max',\n",
        "                            save_best_only=True,\n",
        "                            verbose=1)"
      ],
      "execution_count": null,
      "outputs": []
    },
    {
      "cell_type": "markdown",
      "metadata": {
        "id": "TZevRXXdho76"
      },
      "source": [
        "Train Model"
      ]
    },
    {
      "cell_type": "code",
      "metadata": {
        "colab": {
          "base_uri": "https://localhost:8080/"
        },
        "id": "_ovEXlzVhpbU",
        "outputId": "4d11e7bf-3ac7-4fe0-e436-8232516950c6"
      },
      "source": [
        "history = model.fit(X_train, y_train, epochs=100, verbose=1, validation_data=(X_test, y_test), callbacks=[checkpoint])"
      ],
      "execution_count": null,
      "outputs": [
        {
          "output_type": "stream",
          "text": [
            "Epoch 1/100\n",
            "219/219 [==============================] - 2s 6ms/step - loss: 2.0725 - accuracy: 0.2151 - val_loss: 3.4504 - val_accuracy: 0.1030\n",
            "\n",
            "Epoch 00001: val_accuracy improved from -inf to 0.10303, saving model to my_model/classification_3.hdf5\n",
            "Epoch 2/100\n",
            "219/219 [==============================] - 1s 4ms/step - loss: 1.3814 - accuracy: 0.5142 - val_loss: 4.1109 - val_accuracy: 0.1053\n",
            "\n",
            "Epoch 00002: val_accuracy improved from 0.10303 to 0.10532, saving model to my_model/classification_3.hdf5\n",
            "Epoch 3/100\n",
            "219/219 [==============================] - 1s 4ms/step - loss: 1.1605 - accuracy: 0.5894 - val_loss: 4.4851 - val_accuracy: 0.1179\n",
            "\n",
            "Epoch 00003: val_accuracy improved from 0.10532 to 0.11792, saving model to my_model/classification_3.hdf5\n",
            "Epoch 4/100\n",
            "219/219 [==============================] - 1s 4ms/step - loss: 0.9975 - accuracy: 0.6532 - val_loss: 4.9558 - val_accuracy: 0.1122\n",
            "\n",
            "Epoch 00004: val_accuracy did not improve from 0.11792\n",
            "Epoch 5/100\n",
            "219/219 [==============================] - 1s 4ms/step - loss: 0.8842 - accuracy: 0.6929 - val_loss: 5.6333 - val_accuracy: 0.1099\n",
            "\n",
            "Epoch 00005: val_accuracy did not improve from 0.11792\n",
            "Epoch 6/100\n",
            "219/219 [==============================] - 1s 4ms/step - loss: 0.7981 - accuracy: 0.7245 - val_loss: 5.6862 - val_accuracy: 0.1088\n",
            "\n",
            "Epoch 00006: val_accuracy did not improve from 0.11792\n",
            "Epoch 7/100\n",
            "219/219 [==============================] - 1s 4ms/step - loss: 0.7220 - accuracy: 0.7543 - val_loss: 5.6021 - val_accuracy: 0.1065\n",
            "\n",
            "Epoch 00007: val_accuracy did not improve from 0.11792\n",
            "Epoch 8/100\n",
            "219/219 [==============================] - 1s 4ms/step - loss: 0.6819 - accuracy: 0.7637 - val_loss: 6.6549 - val_accuracy: 0.1133\n",
            "\n",
            "Epoch 00008: val_accuracy did not improve from 0.11792\n",
            "Epoch 9/100\n",
            "219/219 [==============================] - 1s 4ms/step - loss: 0.6217 - accuracy: 0.7958 - val_loss: 6.7635 - val_accuracy: 0.1070\n",
            "\n",
            "Epoch 00009: val_accuracy did not improve from 0.11792\n",
            "Epoch 10/100\n",
            "219/219 [==============================] - 1s 4ms/step - loss: 0.6074 - accuracy: 0.7908 - val_loss: 7.3774 - val_accuracy: 0.1110\n",
            "\n",
            "Epoch 00010: val_accuracy did not improve from 0.11792\n",
            "Epoch 11/100\n",
            "219/219 [==============================] - 1s 4ms/step - loss: 0.5419 - accuracy: 0.8101 - val_loss: 7.8207 - val_accuracy: 0.1070\n",
            "\n",
            "Epoch 00011: val_accuracy did not improve from 0.11792\n",
            "Epoch 12/100\n",
            "219/219 [==============================] - 1s 4ms/step - loss: 0.5279 - accuracy: 0.8279 - val_loss: 7.6471 - val_accuracy: 0.1082\n",
            "\n",
            "Epoch 00012: val_accuracy did not improve from 0.11792\n",
            "Epoch 13/100\n",
            "219/219 [==============================] - 1s 4ms/step - loss: 0.4862 - accuracy: 0.8349 - val_loss: 7.6585 - val_accuracy: 0.1099\n",
            "\n",
            "Epoch 00013: val_accuracy did not improve from 0.11792\n",
            "Epoch 14/100\n",
            "219/219 [==============================] - 1s 4ms/step - loss: 0.4536 - accuracy: 0.8460 - val_loss: 8.8912 - val_accuracy: 0.1070\n",
            "\n",
            "Epoch 00014: val_accuracy did not improve from 0.11792\n",
            "Epoch 15/100\n",
            "219/219 [==============================] - 1s 4ms/step - loss: 0.4420 - accuracy: 0.8466 - val_loss: 8.2422 - val_accuracy: 0.1105\n",
            "\n",
            "Epoch 00015: val_accuracy did not improve from 0.11792\n",
            "Epoch 16/100\n",
            "219/219 [==============================] - 1s 4ms/step - loss: 0.4448 - accuracy: 0.8527 - val_loss: 8.6790 - val_accuracy: 0.1093\n",
            "\n",
            "Epoch 00016: val_accuracy did not improve from 0.11792\n",
            "Epoch 17/100\n",
            "219/219 [==============================] - 1s 4ms/step - loss: 0.4040 - accuracy: 0.8552 - val_loss: 9.2172 - val_accuracy: 0.1070\n",
            "\n",
            "Epoch 00017: val_accuracy did not improve from 0.11792\n",
            "Epoch 18/100\n",
            "219/219 [==============================] - 1s 4ms/step - loss: 0.3703 - accuracy: 0.8691 - val_loss: 9.4984 - val_accuracy: 0.1093\n",
            "\n",
            "Epoch 00018: val_accuracy did not improve from 0.11792\n",
            "Epoch 19/100\n",
            "219/219 [==============================] - 1s 4ms/step - loss: 0.3716 - accuracy: 0.8692 - val_loss: 9.8267 - val_accuracy: 0.1070\n",
            "\n",
            "Epoch 00019: val_accuracy did not improve from 0.11792\n",
            "Epoch 20/100\n",
            "219/219 [==============================] - 1s 4ms/step - loss: 0.3430 - accuracy: 0.8825 - val_loss: 10.3424 - val_accuracy: 0.1059\n",
            "\n",
            "Epoch 00020: val_accuracy did not improve from 0.11792\n",
            "Epoch 21/100\n",
            "219/219 [==============================] - 1s 4ms/step - loss: 0.3222 - accuracy: 0.8898 - val_loss: 10.5598 - val_accuracy: 0.1082\n",
            "\n",
            "Epoch 00021: val_accuracy did not improve from 0.11792\n",
            "Epoch 22/100\n",
            "219/219 [==============================] - 1s 4ms/step - loss: 0.3169 - accuracy: 0.8899 - val_loss: 10.7212 - val_accuracy: 0.1088\n",
            "\n",
            "Epoch 00022: val_accuracy did not improve from 0.11792\n",
            "Epoch 23/100\n",
            "219/219 [==============================] - 1s 4ms/step - loss: 0.3031 - accuracy: 0.8985 - val_loss: 11.0796 - val_accuracy: 0.1105\n",
            "\n",
            "Epoch 00023: val_accuracy did not improve from 0.11792\n",
            "Epoch 24/100\n",
            "219/219 [==============================] - 1s 4ms/step - loss: 0.2674 - accuracy: 0.9065 - val_loss: 11.4743 - val_accuracy: 0.1059\n",
            "\n",
            "Epoch 00024: val_accuracy did not improve from 0.11792\n",
            "Epoch 25/100\n",
            "219/219 [==============================] - 1s 4ms/step - loss: 0.2736 - accuracy: 0.9099 - val_loss: 11.3892 - val_accuracy: 0.1048\n",
            "\n",
            "Epoch 00025: val_accuracy did not improve from 0.11792\n",
            "Epoch 26/100\n",
            "219/219 [==============================] - 1s 4ms/step - loss: 0.2654 - accuracy: 0.9116 - val_loss: 12.0453 - val_accuracy: 0.1059\n",
            "\n",
            "Epoch 00026: val_accuracy did not improve from 0.11792\n",
            "Epoch 27/100\n",
            "219/219 [==============================] - 1s 4ms/step - loss: 0.2477 - accuracy: 0.9116 - val_loss: 12.4692 - val_accuracy: 0.1088\n",
            "\n",
            "Epoch 00027: val_accuracy did not improve from 0.11792\n",
            "Epoch 28/100\n",
            "219/219 [==============================] - 1s 4ms/step - loss: 0.2461 - accuracy: 0.9120 - val_loss: 12.3126 - val_accuracy: 0.1059\n",
            "\n",
            "Epoch 00028: val_accuracy did not improve from 0.11792\n",
            "Epoch 29/100\n",
            "219/219 [==============================] - 1s 4ms/step - loss: 0.2582 - accuracy: 0.9103 - val_loss: 12.9906 - val_accuracy: 0.1065\n",
            "\n",
            "Epoch 00029: val_accuracy did not improve from 0.11792\n",
            "Epoch 30/100\n",
            "219/219 [==============================] - 1s 4ms/step - loss: 0.2295 - accuracy: 0.9202 - val_loss: 13.6380 - val_accuracy: 0.1053\n",
            "\n",
            "Epoch 00030: val_accuracy did not improve from 0.11792\n",
            "Epoch 31/100\n",
            "219/219 [==============================] - 1s 4ms/step - loss: 0.2400 - accuracy: 0.9151 - val_loss: 12.5384 - val_accuracy: 0.1053\n",
            "\n",
            "Epoch 00031: val_accuracy did not improve from 0.11792\n",
            "Epoch 32/100\n",
            "219/219 [==============================] - 1s 4ms/step - loss: 0.2243 - accuracy: 0.9193 - val_loss: 14.3658 - val_accuracy: 0.1099\n",
            "\n",
            "Epoch 00032: val_accuracy did not improve from 0.11792\n",
            "Epoch 33/100\n",
            "219/219 [==============================] - 1s 4ms/step - loss: 0.2333 - accuracy: 0.9237 - val_loss: 14.0769 - val_accuracy: 0.1088\n",
            "\n",
            "Epoch 00033: val_accuracy did not improve from 0.11792\n",
            "Epoch 34/100\n",
            "219/219 [==============================] - 1s 4ms/step - loss: 0.1993 - accuracy: 0.9340 - val_loss: 14.0284 - val_accuracy: 0.1099\n",
            "\n",
            "Epoch 00034: val_accuracy did not improve from 0.11792\n",
            "Epoch 35/100\n",
            "219/219 [==============================] - 1s 4ms/step - loss: 0.2040 - accuracy: 0.9287 - val_loss: 14.6709 - val_accuracy: 0.1082\n",
            "\n",
            "Epoch 00035: val_accuracy did not improve from 0.11792\n",
            "Epoch 36/100\n",
            "219/219 [==============================] - 1s 4ms/step - loss: 0.2199 - accuracy: 0.9308 - val_loss: 13.5792 - val_accuracy: 0.1076\n",
            "\n",
            "Epoch 00036: val_accuracy did not improve from 0.11792\n",
            "Epoch 37/100\n",
            "219/219 [==============================] - 1s 4ms/step - loss: 0.2124 - accuracy: 0.9233 - val_loss: 14.4555 - val_accuracy: 0.1088\n",
            "\n",
            "Epoch 00037: val_accuracy did not improve from 0.11792\n",
            "Epoch 38/100\n",
            "219/219 [==============================] - 1s 4ms/step - loss: 0.2182 - accuracy: 0.9275 - val_loss: 14.6081 - val_accuracy: 0.1065\n",
            "\n",
            "Epoch 00038: val_accuracy did not improve from 0.11792\n",
            "Epoch 39/100\n",
            "219/219 [==============================] - 1s 4ms/step - loss: 0.1757 - accuracy: 0.9409 - val_loss: 14.1616 - val_accuracy: 0.1076\n",
            "\n",
            "Epoch 00039: val_accuracy did not improve from 0.11792\n",
            "Epoch 40/100\n",
            "219/219 [==============================] - 1s 4ms/step - loss: 0.1973 - accuracy: 0.9318 - val_loss: 13.9354 - val_accuracy: 0.1059\n",
            "\n",
            "Epoch 00040: val_accuracy did not improve from 0.11792\n",
            "Epoch 41/100\n",
            "219/219 [==============================] - 1s 4ms/step - loss: 0.1952 - accuracy: 0.9321 - val_loss: 15.5862 - val_accuracy: 0.1082\n",
            "\n",
            "Epoch 00041: val_accuracy did not improve from 0.11792\n",
            "Epoch 42/100\n",
            "219/219 [==============================] - 1s 4ms/step - loss: 0.1979 - accuracy: 0.9343 - val_loss: 15.4767 - val_accuracy: 0.1099\n",
            "\n",
            "Epoch 00042: val_accuracy did not improve from 0.11792\n",
            "Epoch 43/100\n",
            "219/219 [==============================] - 1s 4ms/step - loss: 0.1951 - accuracy: 0.9320 - val_loss: 14.8252 - val_accuracy: 0.1053\n",
            "\n",
            "Epoch 00043: val_accuracy did not improve from 0.11792\n",
            "Epoch 44/100\n",
            "219/219 [==============================] - 1s 4ms/step - loss: 0.1725 - accuracy: 0.9407 - val_loss: 15.7585 - val_accuracy: 0.1082\n",
            "\n",
            "Epoch 00044: val_accuracy did not improve from 0.11792\n",
            "Epoch 45/100\n",
            "219/219 [==============================] - 1s 4ms/step - loss: 0.1776 - accuracy: 0.9354 - val_loss: 15.3530 - val_accuracy: 0.1059\n",
            "\n",
            "Epoch 00045: val_accuracy did not improve from 0.11792\n",
            "Epoch 46/100\n",
            "219/219 [==============================] - 1s 4ms/step - loss: 0.1670 - accuracy: 0.9389 - val_loss: 16.9957 - val_accuracy: 0.1082\n",
            "\n",
            "Epoch 00046: val_accuracy did not improve from 0.11792\n",
            "Epoch 47/100\n",
            "219/219 [==============================] - 1s 4ms/step - loss: 0.1645 - accuracy: 0.9424 - val_loss: 17.7397 - val_accuracy: 0.1065\n",
            "\n",
            "Epoch 00047: val_accuracy did not improve from 0.11792\n",
            "Epoch 48/100\n",
            "219/219 [==============================] - 1s 4ms/step - loss: 0.1635 - accuracy: 0.9375 - val_loss: 16.1629 - val_accuracy: 0.1082\n",
            "\n",
            "Epoch 00048: val_accuracy did not improve from 0.11792\n",
            "Epoch 49/100\n",
            "219/219 [==============================] - 1s 4ms/step - loss: 0.1649 - accuracy: 0.9414 - val_loss: 16.7106 - val_accuracy: 0.1076\n",
            "\n",
            "Epoch 00049: val_accuracy did not improve from 0.11792\n",
            "Epoch 50/100\n",
            "219/219 [==============================] - 1s 4ms/step - loss: 0.1478 - accuracy: 0.9488 - val_loss: 16.7980 - val_accuracy: 0.1076\n",
            "\n",
            "Epoch 00050: val_accuracy did not improve from 0.11792\n",
            "Epoch 51/100\n",
            "219/219 [==============================] - 1s 4ms/step - loss: 0.1532 - accuracy: 0.9464 - val_loss: 17.2807 - val_accuracy: 0.1070\n",
            "\n",
            "Epoch 00051: val_accuracy did not improve from 0.11792\n",
            "Epoch 52/100\n",
            "219/219 [==============================] - 1s 4ms/step - loss: 0.1594 - accuracy: 0.9456 - val_loss: 17.2121 - val_accuracy: 0.1076\n",
            "\n",
            "Epoch 00052: val_accuracy did not improve from 0.11792\n",
            "Epoch 53/100\n",
            "219/219 [==============================] - 1s 4ms/step - loss: 0.1611 - accuracy: 0.9492 - val_loss: 17.5771 - val_accuracy: 0.1076\n",
            "\n",
            "Epoch 00053: val_accuracy did not improve from 0.11792\n",
            "Epoch 54/100\n",
            "219/219 [==============================] - 1s 4ms/step - loss: 0.1412 - accuracy: 0.9438 - val_loss: 18.1762 - val_accuracy: 0.1070\n",
            "\n",
            "Epoch 00054: val_accuracy did not improve from 0.11792\n",
            "Epoch 55/100\n",
            "219/219 [==============================] - 1s 4ms/step - loss: 0.1607 - accuracy: 0.9435 - val_loss: 17.1216 - val_accuracy: 0.1065\n",
            "\n",
            "Epoch 00055: val_accuracy did not improve from 0.11792\n",
            "Epoch 56/100\n",
            "219/219 [==============================] - 1s 4ms/step - loss: 0.1601 - accuracy: 0.9429 - val_loss: 18.1185 - val_accuracy: 0.1076\n",
            "\n",
            "Epoch 00056: val_accuracy did not improve from 0.11792\n",
            "Epoch 57/100\n",
            "219/219 [==============================] - 1s 4ms/step - loss: 0.1331 - accuracy: 0.9512 - val_loss: 18.2713 - val_accuracy: 0.1065\n",
            "\n",
            "Epoch 00057: val_accuracy did not improve from 0.11792\n",
            "Epoch 58/100\n",
            "219/219 [==============================] - 1s 4ms/step - loss: 0.1324 - accuracy: 0.9550 - val_loss: 18.0723 - val_accuracy: 0.1088\n",
            "\n",
            "Epoch 00058: val_accuracy did not improve from 0.11792\n",
            "Epoch 59/100\n",
            "219/219 [==============================] - 1s 4ms/step - loss: 0.1495 - accuracy: 0.9466 - val_loss: 19.3998 - val_accuracy: 0.1070\n",
            "\n",
            "Epoch 00059: val_accuracy did not improve from 0.11792\n",
            "Epoch 60/100\n",
            "219/219 [==============================] - 1s 4ms/step - loss: 0.1214 - accuracy: 0.9577 - val_loss: 19.2244 - val_accuracy: 0.1070\n",
            "\n",
            "Epoch 00060: val_accuracy did not improve from 0.11792\n",
            "Epoch 61/100\n",
            "219/219 [==============================] - 1s 4ms/step - loss: 0.1453 - accuracy: 0.9555 - val_loss: 18.4375 - val_accuracy: 0.1070\n",
            "\n",
            "Epoch 00061: val_accuracy did not improve from 0.11792\n",
            "Epoch 62/100\n",
            "219/219 [==============================] - 1s 4ms/step - loss: 0.1374 - accuracy: 0.9487 - val_loss: 19.4441 - val_accuracy: 0.1059\n",
            "\n",
            "Epoch 00062: val_accuracy did not improve from 0.11792\n",
            "Epoch 63/100\n",
            "219/219 [==============================] - 1s 4ms/step - loss: 0.1484 - accuracy: 0.9496 - val_loss: 19.1165 - val_accuracy: 0.1065\n",
            "\n",
            "Epoch 00063: val_accuracy did not improve from 0.11792\n",
            "Epoch 64/100\n",
            "219/219 [==============================] - 1s 4ms/step - loss: 0.1374 - accuracy: 0.9515 - val_loss: 19.2924 - val_accuracy: 0.1082\n",
            "\n",
            "Epoch 00064: val_accuracy did not improve from 0.11792\n",
            "Epoch 65/100\n",
            "219/219 [==============================] - 1s 4ms/step - loss: 0.1306 - accuracy: 0.9523 - val_loss: 19.6605 - val_accuracy: 0.1082\n",
            "\n",
            "Epoch 00065: val_accuracy did not improve from 0.11792\n",
            "Epoch 66/100\n",
            "219/219 [==============================] - 1s 4ms/step - loss: 0.1177 - accuracy: 0.9602 - val_loss: 20.0671 - val_accuracy: 0.1065\n",
            "\n",
            "Epoch 00066: val_accuracy did not improve from 0.11792\n",
            "Epoch 67/100\n",
            "219/219 [==============================] - 1s 4ms/step - loss: 0.1411 - accuracy: 0.9518 - val_loss: 19.5960 - val_accuracy: 0.1065\n",
            "\n",
            "Epoch 00067: val_accuracy did not improve from 0.11792\n",
            "Epoch 68/100\n",
            "219/219 [==============================] - 1s 4ms/step - loss: 0.1232 - accuracy: 0.9566 - val_loss: 19.3070 - val_accuracy: 0.1065\n",
            "\n",
            "Epoch 00068: val_accuracy did not improve from 0.11792\n",
            "Epoch 69/100\n",
            "219/219 [==============================] - 1s 4ms/step - loss: 0.1430 - accuracy: 0.9503 - val_loss: 20.2185 - val_accuracy: 0.1076\n",
            "\n",
            "Epoch 00069: val_accuracy did not improve from 0.11792\n",
            "Epoch 70/100\n",
            "219/219 [==============================] - 1s 4ms/step - loss: 0.1037 - accuracy: 0.9636 - val_loss: 20.9282 - val_accuracy: 0.1065\n",
            "\n",
            "Epoch 00070: val_accuracy did not improve from 0.11792\n",
            "Epoch 71/100\n",
            "219/219 [==============================] - 1s 4ms/step - loss: 0.1473 - accuracy: 0.9505 - val_loss: 20.6360 - val_accuracy: 0.1082\n",
            "\n",
            "Epoch 00071: val_accuracy did not improve from 0.11792\n",
            "Epoch 72/100\n",
            "219/219 [==============================] - 1s 4ms/step - loss: 0.1122 - accuracy: 0.9642 - val_loss: 20.6728 - val_accuracy: 0.1076\n",
            "\n",
            "Epoch 00072: val_accuracy did not improve from 0.11792\n",
            "Epoch 73/100\n",
            "219/219 [==============================] - 1s 4ms/step - loss: 0.1214 - accuracy: 0.9588 - val_loss: 20.1036 - val_accuracy: 0.1088\n",
            "\n",
            "Epoch 00073: val_accuracy did not improve from 0.11792\n",
            "Epoch 74/100\n",
            "219/219 [==============================] - 1s 4ms/step - loss: 0.1307 - accuracy: 0.9558 - val_loss: 20.9428 - val_accuracy: 0.1070\n",
            "\n",
            "Epoch 00074: val_accuracy did not improve from 0.11792\n",
            "Epoch 75/100\n",
            "219/219 [==============================] - 1s 4ms/step - loss: 0.1191 - accuracy: 0.9573 - val_loss: 20.8831 - val_accuracy: 0.1076\n",
            "\n",
            "Epoch 00075: val_accuracy did not improve from 0.11792\n",
            "Epoch 76/100\n",
            "219/219 [==============================] - 1s 4ms/step - loss: 0.1188 - accuracy: 0.9583 - val_loss: 21.0127 - val_accuracy: 0.1059\n",
            "\n",
            "Epoch 00076: val_accuracy did not improve from 0.11792\n",
            "Epoch 77/100\n",
            "219/219 [==============================] - 1s 4ms/step - loss: 0.1102 - accuracy: 0.9550 - val_loss: 20.5306 - val_accuracy: 0.1070\n",
            "\n",
            "Epoch 00077: val_accuracy did not improve from 0.11792\n",
            "Epoch 78/100\n",
            "219/219 [==============================] - 1s 4ms/step - loss: 0.1120 - accuracy: 0.9617 - val_loss: 20.7702 - val_accuracy: 0.1065\n",
            "\n",
            "Epoch 00078: val_accuracy did not improve from 0.11792\n",
            "Epoch 79/100\n",
            "219/219 [==============================] - 1s 4ms/step - loss: 0.1150 - accuracy: 0.9533 - val_loss: 22.8699 - val_accuracy: 0.1082\n",
            "\n",
            "Epoch 00079: val_accuracy did not improve from 0.11792\n",
            "Epoch 80/100\n",
            "219/219 [==============================] - 1s 4ms/step - loss: 0.1138 - accuracy: 0.9619 - val_loss: 21.9224 - val_accuracy: 0.1082\n",
            "\n",
            "Epoch 00080: val_accuracy did not improve from 0.11792\n",
            "Epoch 81/100\n",
            "219/219 [==============================] - 1s 4ms/step - loss: 0.1068 - accuracy: 0.9605 - val_loss: 21.4470 - val_accuracy: 0.1082\n",
            "\n",
            "Epoch 00081: val_accuracy did not improve from 0.11792\n",
            "Epoch 82/100\n",
            "219/219 [==============================] - 1s 4ms/step - loss: 0.1021 - accuracy: 0.9656 - val_loss: 21.4531 - val_accuracy: 0.1088\n",
            "\n",
            "Epoch 00082: val_accuracy did not improve from 0.11792\n",
            "Epoch 83/100\n",
            "219/219 [==============================] - 1s 4ms/step - loss: 0.1130 - accuracy: 0.9622 - val_loss: 22.3191 - val_accuracy: 0.1088\n",
            "\n",
            "Epoch 00083: val_accuracy did not improve from 0.11792\n",
            "Epoch 84/100\n",
            "219/219 [==============================] - 1s 4ms/step - loss: 0.1010 - accuracy: 0.9663 - val_loss: 21.3610 - val_accuracy: 0.1076\n",
            "\n",
            "Epoch 00084: val_accuracy did not improve from 0.11792\n",
            "Epoch 85/100\n",
            "219/219 [==============================] - 1s 4ms/step - loss: 0.1161 - accuracy: 0.9621 - val_loss: 22.5786 - val_accuracy: 0.1076\n",
            "\n",
            "Epoch 00085: val_accuracy did not improve from 0.11792\n",
            "Epoch 86/100\n",
            "219/219 [==============================] - 1s 4ms/step - loss: 0.1028 - accuracy: 0.9670 - val_loss: 22.3380 - val_accuracy: 0.1070\n",
            "\n",
            "Epoch 00086: val_accuracy did not improve from 0.11792\n",
            "Epoch 87/100\n",
            "219/219 [==============================] - 1s 4ms/step - loss: 0.1028 - accuracy: 0.9606 - val_loss: 22.4165 - val_accuracy: 0.1065\n",
            "\n",
            "Epoch 00087: val_accuracy did not improve from 0.11792\n",
            "Epoch 88/100\n",
            "219/219 [==============================] - 1s 4ms/step - loss: 0.1139 - accuracy: 0.9608 - val_loss: 22.2655 - val_accuracy: 0.1082\n",
            "\n",
            "Epoch 00088: val_accuracy did not improve from 0.11792\n",
            "Epoch 89/100\n",
            "219/219 [==============================] - 1s 4ms/step - loss: 0.1172 - accuracy: 0.9569 - val_loss: 22.4865 - val_accuracy: 0.1076\n",
            "\n",
            "Epoch 00089: val_accuracy did not improve from 0.11792\n",
            "Epoch 90/100\n",
            "219/219 [==============================] - 1s 4ms/step - loss: 0.0846 - accuracy: 0.9701 - val_loss: 23.4192 - val_accuracy: 0.1076\n",
            "\n",
            "Epoch 00090: val_accuracy did not improve from 0.11792\n",
            "Epoch 91/100\n",
            "219/219 [==============================] - 1s 4ms/step - loss: 0.1019 - accuracy: 0.9656 - val_loss: 22.9820 - val_accuracy: 0.1082\n",
            "\n",
            "Epoch 00091: val_accuracy did not improve from 0.11792\n",
            "Epoch 92/100\n",
            "219/219 [==============================] - 1s 4ms/step - loss: 0.1043 - accuracy: 0.9610 - val_loss: 23.0873 - val_accuracy: 0.1053\n",
            "\n",
            "Epoch 00092: val_accuracy did not improve from 0.11792\n",
            "Epoch 93/100\n",
            "219/219 [==============================] - 1s 4ms/step - loss: 0.1302 - accuracy: 0.9531 - val_loss: 21.9012 - val_accuracy: 0.1076\n",
            "\n",
            "Epoch 00093: val_accuracy did not improve from 0.11792\n",
            "Epoch 94/100\n",
            "219/219 [==============================] - 1s 4ms/step - loss: 0.0859 - accuracy: 0.9703 - val_loss: 22.6789 - val_accuracy: 0.1059\n",
            "\n",
            "Epoch 00094: val_accuracy did not improve from 0.11792\n",
            "Epoch 95/100\n",
            "219/219 [==============================] - 1s 4ms/step - loss: 0.0867 - accuracy: 0.9671 - val_loss: 22.6459 - val_accuracy: 0.1082\n",
            "\n",
            "Epoch 00095: val_accuracy did not improve from 0.11792\n",
            "Epoch 96/100\n",
            "219/219 [==============================] - 1s 4ms/step - loss: 0.1009 - accuracy: 0.9637 - val_loss: 22.6500 - val_accuracy: 0.1053\n",
            "\n",
            "Epoch 00096: val_accuracy did not improve from 0.11792\n",
            "Epoch 97/100\n",
            "219/219 [==============================] - 1s 4ms/step - loss: 0.1093 - accuracy: 0.9650 - val_loss: 23.4120 - val_accuracy: 0.1053\n",
            "\n",
            "Epoch 00097: val_accuracy did not improve from 0.11792\n",
            "Epoch 98/100\n",
            "219/219 [==============================] - 1s 4ms/step - loss: 0.1198 - accuracy: 0.9640 - val_loss: 22.5679 - val_accuracy: 0.1065\n",
            "\n",
            "Epoch 00098: val_accuracy did not improve from 0.11792\n",
            "Epoch 99/100\n",
            "219/219 [==============================] - 1s 4ms/step - loss: 0.0920 - accuracy: 0.9675 - val_loss: 23.3666 - val_accuracy: 0.1070\n",
            "\n",
            "Epoch 00099: val_accuracy did not improve from 0.11792\n",
            "Epoch 100/100\n",
            "219/219 [==============================] - 1s 4ms/step - loss: 0.0900 - accuracy: 0.9700 - val_loss: 24.3643 - val_accuracy: 0.1070\n",
            "\n",
            "Epoch 00100: val_accuracy did not improve from 0.11792\n"
          ],
          "name": "stdout"
        }
      ]
    },
    {
      "cell_type": "markdown",
      "metadata": {
        "id": "HdNYa_M4QEEY"
      },
      "source": [
        "Performance evaluation"
      ]
    },
    {
      "cell_type": "code",
      "metadata": {
        "colab": {
          "base_uri": "https://localhost:8080/",
          "height": 295
        },
        "id": "zw7o7uw8V6Q8",
        "outputId": "d498b99e-c3e8-4a94-f324-179e8c0a35a2"
      },
      "source": [
        "accuracy_train = history.history['accuracy']\n",
        "accuracy_val = history.history['val_accuracy']\n",
        "epochs = range(1,101)\n",
        "plt.plot(epochs, accuracy_train, 'g', label='Training accuracy')\n",
        "plt.plot(epochs, accuracy_val, 'y', label='Validation accuracy')\n",
        "plt.title('Training and Validation Accuracy')\n",
        "plt.xlabel('Epochs')\n",
        "plt.ylabel('accuracy')\n",
        "plt.legend()\n",
        "plt.show()"
      ],
      "execution_count": null,
      "outputs": [
        {
          "output_type": "display_data",
          "data": {
            "image/png": "[encoded data removed]",
            "text/plain": [
              "<Figure size 432x288 with 1 Axes>"
            ]
          },
          "metadata": {
            "tags": [],
            "needs_background": "light"
          }
        }
      ]
    },
    {
      "cell_type": "code",
      "metadata": {
        "colab": {
          "base_uri": "https://localhost:8080/",
          "height": 295
        },
        "id": "8iW_QoCkbUkW",
        "outputId": "a2f8f0f4-5912-4aba-d74c-a243e0eca13d"
      },
      "source": [
        "loss_train = history.history['loss']\n",
        "loss_val = history.history['val_loss']\n",
        "epochs = range(1,101)\n",
        "plt.plot(epochs, loss_train, 'g', label='Training Loss')\n",
        "plt.plot(epochs, loss_val, 'y', label='Validation Loss')\n",
        "plt.title('Training and Validation Loss')\n",
        "plt.xlabel('Epochs')\n",
        "plt.ylabel('loss')\n",
        "plt.legend()\n",
        "plt.show()"
      ],
      "execution_count": null,
      "outputs": [
        {
          "output_type": "display_data",
          "data": {
            "image/png": "[encoded data removed]",
            "text/plain": [
              "<Figure size 432x288 with 1 Axes>"
            ]
          },
          "metadata": {
            "tags": [],
            "needs_background": "light"
          }
        }
      ]
    },
    {
      "cell_type": "markdown",
      "metadata": {
        "id": "ptr4KBVjabbm"
      },
      "source": [
        "Predict using model"
      ]
    },
    {
      "cell_type": "code",
      "metadata": {
        "colab": {
          "base_uri": "https://localhost:8080/"
        },
        "id": "Gengs1peaPbE",
        "outputId": "63a5ec98-2d44-46bb-e194-175d35a1edea"
      },
      "source": [
        "from sklearn.metrics import classification_report\n",
        "\n",
        "predictions = model.predict(X_test)\n",
        "y_pred = np.argmax(predictions, axis = 1)\n",
        "y_true = np.argmax(y_test, axis = 1)\n",
        "print(classification_report(y_true, y_pred))"
      ],
      "execution_count": null,
      "outputs": [
        {
          "output_type": "stream",
          "text": [
            "              precision    recall  f1-score   support\n",
            "\n",
            "           0       0.10      0.10      0.10       200\n",
            "           1       0.02      0.02      0.02        86\n",
            "           2       0.13      0.13      0.13       200\n",
            "           3       0.13      0.13      0.13       200\n",
            "           4       0.12      0.12      0.12       200\n",
            "           5       0.11      0.11      0.11       200\n",
            "           6       0.03      0.03      0.03        75\n",
            "           7       0.10      0.10      0.10       200\n",
            "           8       0.10      0.10      0.10       186\n",
            "           9       0.13      0.14      0.13       200\n",
            "\n",
            "    accuracy                           0.11      1747\n",
            "   macro avg       0.10      0.10      0.10      1747\n",
            "weighted avg       0.11      0.11      0.11      1747\n",
            "\n"
          ],
          "name": "stdout"
        }
      ]
    },
    {
      "cell_type": "code",
      "metadata": {
        "colab": {
          "base_uri": "https://localhost:8080/",
          "height": 278
        },
        "id": "rxUkAsNSad2t",
        "outputId": "f98ac200-6a13-424d-e954-7409db1556fe"
      },
      "source": [
        "from sklearn.metrics import confusion_matrix\n",
        "\n",
        "cm = confusion_matrix(y_true, y_pred)\n",
        "plt.imshow(cm, cmap=plt.cm.Blues)\n",
        "plt.xlabel(\"Predicted labels\")\n",
        "plt.ylabel(\"True labels\")\n",
        "plt.xticks([], [])\n",
        "plt.yticks([], [])\n",
        "plt.title('Confusion matrix ')\n",
        "plt.colorbar()\n",
        "plt.show()"
      ],
      "execution_count": null,
      "outputs": [
        {
          "output_type": "display_data",
          "data": {
            "image/png": "[encoded data removed]",
            "text/plain": [
              "<Figure size 432x288 with 2 Axes>"
            ]
          },
          "metadata": {
            "tags": [],
            "needs_background": "light"
          }
        }
      ]
    }
  ]
}